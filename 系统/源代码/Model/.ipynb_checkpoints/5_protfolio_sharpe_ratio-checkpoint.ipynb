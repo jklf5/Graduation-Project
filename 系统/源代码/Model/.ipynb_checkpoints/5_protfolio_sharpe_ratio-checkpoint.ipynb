{
 "cells": [
  {
   "cell_type": "code",
   "execution_count": null,
   "metadata": {
    "collapsed": true
   },
   "outputs": [],
   "source": [
    "# -*- coding: utf-8 -*-\n",
    "\"\"\"\n",
    "使用夏普比率作为指标构建投资组合模型\n",
    "\"\"\"\n",
    "# 导入库\n",
    "import dautil as dl\n",
    "import infoClass\n",
    "import functionClass as fc\n",
    "import pandas as pd\n",
    "import numpy as np\n",
    "import seaborn as sns\n",
    "import matplotlib.pyplot as plt\n",
    "import tensorflow as tf\n",
    "import matplotlib"
   ]
  },
  {
   "cell_type": "code",
   "execution_count": null,
   "metadata": {
    "collapsed": true
   },
   "outputs": [],
   "source": [
    "# 公式\n",
    "context = dl.nb.Context(\"portfolio_optimization\")\n",
    "lr = dl.nb.LatexRenderer(chapter=7, start=16, context=context)\n",
    "lr.render(r'''\\operatorname{E}(R_p) =  w_A \\operatorname{E}(R_A) +\n",
    "w_B \\operatorname{E}(R_B) = w_A \\operatorname{E}(R_A) + (1 - w_A) \\operatorname{E}(R_B)''')\n",
    "lr.render(r'\\sigma_p^2  = w_A^2 \\sigma_A^2  + w_B^2 \\sigma_B^2 + 2w_Aw_B  \\sigma_{A} \\sigma_{B} \\rho_{AB}')"
   ]
  },
  {
   "cell_type": "code",
   "execution_count": null,
   "metadata": {
    "collapsed": true
   },
   "outputs": [],
   "source": [
    "# 定义函数计算期望的收益\n",
    "def expected_return(stocka, stockb, means):\n",
    "    # print(0.5 * (means[stocka] + means[stockb]))\n",
    "    return 0.5 * (means[stocka] + means[stockb])\n",
    "\n",
    "\n",
    "# 定义函数计算投资组合收益的方差\n",
    "def variance_return(stocka, stockb, stds):\n",
    "    ohlc = dl.data.OHLC()\n",
    "    dfa = ohlc.get(stocka)\n",
    "    dfb = ohlc.get(stockb)\n",
    "    merged = pd.merge(left=dfa, right=dfb,\n",
    "                      right_index=True, left_index=True,\n",
    "                      suffixes=('_A', '_B')).dropna()\n",
    "    retsa = fc.log_rets(merged['Adj Close_A'])\n",
    "    retsb = fc.log_rets(merged['Adj Close_B'])\n",
    "    corr = np.corrcoef(retsa, retsb)[0][1]\n",
    "    # print(0.25 * (stds[stocka] ** 2 + stds[stockb] ** 2 +\n",
    "    #                2 * stds[stocka] * stds[stockb] * corr))\n",
    "    # return stds[stocka] + stds[stockb] + 2*\n",
    "    return 0.25 * (stds[stocka] ** 2 + stds[stockb] ** 2 +\n",
    "                   2 * stds[stocka] * stds[stockb] * corr)\n",
    "\n",
    "\n",
    "# 定义函数计算期望收益和方差的比率\n",
    "def calc_ratio(stocka, stockb, means, stds, ratios):\n",
    "    if stocka == stockb:\n",
    "        # return 0\n",
    "        return np.nan\n",
    "\n",
    "    key = stocka + '_' + stockb\n",
    "    ratio = ratios.get(key, None)\n",
    "\n",
    "    if ratio:\n",
    "        return ratio\n",
    "\n",
    "    expected = expected_return(stocka, stockb, means)\n",
    "    var = variance_return(stocka, stockb, stds)\n",
    "    ratio = expected / var\n",
    "    ratios[key] = ratio\n",
    "\n",
    "    return ratio"
   ]
  },
  {
   "cell_type": "code",
   "execution_count": null,
   "metadata": {
    "collapsed": true
   },
   "outputs": [],
   "source": [
    "fc.delete_not_safe(infoClass.STOCKS, infoClass.STOCKS_ZH)\n",
    "zh_font = matplotlib.font_manager.FontProperties(fname='C:\\Windows\\Fonts\\simsun.ttc')\n",
    "# 为每一只股票计算平均收益和标准偏差\n",
    "means = {}\n",
    "stds = {}\n",
    "\n",
    "ohlc = dl.data.OHLC()\n",
    "\n",
    "for stock in infoClass.STOCKS:\n",
    "    close = ohlc.get(stock)['Adj Close']\n",
    "    rets = fc.log_rets(close)\n",
    "    means[stock] = rets.mean()\n",
    "    stds[stock] = rets.std()"
   ]
  },
  {
   "cell_type": "code",
   "execution_count": null,
   "metadata": {
    "collapsed": true
   },
   "outputs": [],
   "source": [
    "# 计算所有股票的所有组合的网格比率\n",
    "pairs = dl.collect.grid_list(infoClass.STOCKS)\n",
    "sorted_pairs = [[sorted(row[i]) for row in pairs]\n",
    "                for i in range(len(infoClass.STOCKS))]\n",
    "ratios = {}\n",
    "\n",
    "grid = [[calc_ratio(row[i][0], row[i][1], means, stds, ratios)\n",
    "         for row in sorted_pairs] for i in range(len(infoClass.STOCKS))]\n",
    "print(grid)\n"
   ]
  },
  {
   "cell_type": "code",
   "execution_count": null,
   "metadata": {
    "collapsed": true
   },
   "outputs": [],
   "source": [
    "# 使用tensorflow求最大值及每行最大值索引\n",
    "with tf.Session() as sess:\n",
    "    grid_tensor = tf.convert_to_tensor(grid)\n",
    "    print(sess.run(grid_tensor))\n",
    "    maxnum = tf.reduce_max(grid_tensor)\n",
    "    print(sess.run(maxnum))\n",
    "    max_index_tensor = tf.argmax(grid_tensor)\n",
    "    max_index = max_index_tensor.eval()\n",
    "\n",
    "max_num = grid[0][1]\n",
    "max_index_x = 0\n",
    "max_index_y = 0\n",
    "for i in range(len(grid)):\n",
    "    for j in max_index:\n",
    "        if(max_num < grid[i][j]):\n",
    "            max_num = grid[i][j]\n",
    "            max_index_x = i\n",
    "            max_index_y = j\n",
    "print(infoClass.STOCKS[max_index_x], infoClass.STOCKS_ZH[max_index_x])\n",
    "print(infoClass.STOCKS[max_index_y], infoClass.STOCKS_ZH[max_index_y])"
   ]
  },
  {
   "cell_type": "code",
   "execution_count": null,
   "metadata": {
    "collapsed": true
   },
   "outputs": [],
   "source": [
    "# 在热图中绘制网格\n",
    "%matplotlib auto\n",
    "plt.title('等权重双资产投资组合（夏普比率）', fontproperties=zh_font, fontsize=15)\n",
    "sns.heatmap(grid, annot=True, cmap='YlGnBu', linewidths=0.3, annot_kws={\"size\":10}, xticklabels=infoClass.STOCKS, yticklabels=infoClass.STOCKS)\n",
    "plt.show()"
   ]
  }
 ],
 "metadata": {
  "kernelspec": {
   "display_name": "Python 3",
   "language": "python",
   "name": "python3"
  },
  "language_info": {
   "codemirror_mode": {
    "name": "ipython",
    "version": 3
   },
   "file_extension": ".py",
   "mimetype": "text/x-python",
   "name": "python",
   "nbconvert_exporter": "python",
   "pygments_lexer": "ipython3",
   "version": "3.6.2"
  }
 },
 "nbformat": 4,
 "nbformat_minor": 2
}
