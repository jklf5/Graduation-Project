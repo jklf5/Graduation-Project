{
 "cells": [
  {
   "cell_type": "code",
   "execution_count": null,
   "metadata": {
    "collapsed": true
   },
   "outputs": [],
   "source": [
    "# -*- coding: utf-8 -*-\n",
    "\"\"\"\n",
    "绘制筛选后各股票与上证指数的对数收益率的对比图\n",
    "\"\"\"\n",
    "import matplotlib.pyplot as plt\n",
    "from datetime import datetime\n",
    "import functionClass as fc\n",
    "import infoClass\n",
    "from pandas_datareader import data\n",
    "import matplotlib as mpl\n",
    "import numpy as np\n",
    "import pandas as pd\n",
    "import dautil as dl"
   ]
  },
  {
   "cell_type": "code",
   "execution_count": null,
   "metadata": {
    "collapsed": true
   },
   "outputs": [],
   "source": [
    "start = datetime(2018, 1, 1, 0, 0, 0, 0)\n",
    "end = datetime(2019, 5, 11, 0, 0, 0, 0)\n",
    "\n",
    "fc.delete_not_safe(infoClass.STOCKS, infoClass.STOCKS_ZH)\n",
    "zh_font = mpl.font_manager.FontProperties(fname='C:\\Windows\\Fonts\\simsun.ttc')\n",
    "SHci = data.get_data_yahoo('000001.ss', start=start, end=end)['Adj Close']\n",
    "\n",
    "# 获取各股票历史数据并绘图\n",
    "dl.options.mimic_seaborn()\n",
    "for i in range(len(infoClass.STOCKS)):\n",
    "    plt.subplot(4, 2, i+1)\n",
    "    get_temp = data.get_data_yahoo(infoClass.STOCKS[i], start=start, end=end)['Adj Close']\n",
    "    plt.plot(SHci.index[1:], np.diff(np.log(get_temp)), label=infoClass.STOCKS[i])\n",
    "    plt.plot(SHci.index[1:], np.diff(np.log(SHci)), label='000001')\n",
    "    plt.title(infoClass.STOCKS[i])\n",
    "    plt.xlabel('Date')\n",
    "    plt.ylabel('Return')\n",
    "    plt.legend(loc='best')\n",
    "# plt.legend()\n",
    "plt.subplots_adjust(wspace=0.5,hspace=1)# 调整小分图之间的间距\n",
    "plt.show()"
   ]
  }
 ],
 "metadata": {
  "kernelspec": {
   "display_name": "Python 3",
   "language": "python",
   "name": "python3"
  },
  "language_info": {
   "codemirror_mode": {
    "name": "ipython",
    "version": 3
   },
   "file_extension": ".py",
   "mimetype": "text/x-python",
   "name": "python",
   "nbconvert_exporter": "python",
   "pygments_lexer": "ipython3",
   "version": "3.6.2"
  }
 },
 "nbformat": 4,
 "nbformat_minor": 2
}
