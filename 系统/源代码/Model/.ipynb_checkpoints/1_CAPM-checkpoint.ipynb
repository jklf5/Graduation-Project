{
 "cells": [
  {
   "cell_type": "code",
   "execution_count": 1,
   "metadata": {},
   "outputs": [
    {
     "name": "stderr",
     "output_type": "stream",
     "text": [
      "E:\\Programme\\Anaconda\\lib\\site-packages\\IPython\\html.py:14: ShimWarning: The `IPython.html` package has been deprecated since IPython 4.0. You should import from `notebook` instead. `IPython.html.widgets` has moved to `ipywidgets`.\n",
      "  \"`IPython.html.widgets` has moved to `ipywidgets`.\", ShimWarning)\n"
     ]
    },
    {
     "name": "stdout",
     "output_type": "stream",
     "text": [
      "['000418.SZ', '000568.SZ', '002126.SZ', '002223.SZ', '002372.SZ', '002677.SZ', '002717.SZ', '300003.SZ', '300015.SZ', '300124.SZ', '300136.SZ', '300207.SZ', '300244.SZ', '600276.SS', '600340.SS', '600419.SS', '600566.SS', '603288.SS', '603368.SS'] ['小天鹅A', '泸州老窖', '银轮股份', '鱼跃医疗', '伟星新材', '浙江美大', '岭南股份', '乐普医疗', '爱尔眼科', '汇川技术', '信维通信', '欣旺达', '迪安诊断', '恒瑞医药', '华夏幸福', '天润乳业', '济川药业', '海天味业', '柳药股份']\n"
     ]
    }
   ],
   "source": [
    "# -*- coding: utf-8 -*-\n",
    "\"\"\"\n",
    "使用资本资产定价模型（CAPM）找出低于市场安全线的股票\n",
    "\"\"\"\n",
    "# 导入库\n",
    "import dautil as dl\n",
    "import numpy as np\n",
    "import pandas as pd\n",
    "import infoClass\n",
    "import functionClass as fc\n",
    "import matplotlib.pyplot as plt\n",
    "import matplotlib\n",
    "from pandas_datareader import data\n",
    "from datetime import datetime"
   ]
  },
  {
   "cell_type": "code",
   "execution_count": 4,
   "metadata": {},
   "outputs": [
    {
     "data": {
      "text/latex": [
       "$$(1)\\hspace{1cm}r_{a,t} = \\alpha + \\beta r_{b,t} + \\varepsilon_t$$"
      ],
      "text/plain": [
       "<IPython.core.display.Math object>"
      ]
     },
     "metadata": {},
     "output_type": "display_data"
    }
   ],
   "source": [
    "# 公式\n",
    "context = dl.nb.Context(\"capm\")\n",
    "lr = dl.nb.LatexRenderer(context=context)\n",
    "lr.render(r'r_{a,t} = \\alpha + \\beta r_{b,t} + \\varepsilon_t')"
   ]
  },
  {
   "cell_type": "code",
   "execution_count": 5,
   "metadata": {
    "collapsed": true
   },
   "outputs": [],
   "source": [
    "# 定义函数来计算beta\n",
    "def calc_beta(symbol):\n",
    "    ohlc = dl.data.OHLC()# 生成数据获取对象\n",
    "    SHci = ohlc.get('000001.ss')['Adj Close']# 获取市场数据\n",
    "    stock = ohlc.get(symbol)['Adj Close']# 获取股票数据\n",
    "    df = pd.DataFrame({'SHci': SHci, symbol: stock}).dropna()# 将股票数据与市场数据结合\n",
    "    SHci_rets = fc.log_rets(df['SHci'])# 计算市场对数收益率\n",
    "    rets = fc.log_rets(df[symbol])# 计算股票对数收益率\n",
    "    beta, _ = np.polyfit(SHci_rets, rets, 1)# 拟合beta系数\n",
    "    return beta, 250 * rets.mean() * 100 # 返回beta系数，年化收益率"
   ]
  },
  {
   "cell_type": "code",
   "execution_count": 6,
   "metadata": {
    "collapsed": true
   },
   "outputs": [],
   "source": [
    "zh_font = matplotlib.font_manager.FontProperties(fname='C:\\Windows\\Fonts\\simsun.ttc')\n",
    "# 计算beta和股票的平均收益\n",
    "betas = []\n",
    "means = []\n",
    "\n",
    "for symbol in infoClass.STOCKS:\n",
    "    beta, ret_mean = calc_beta(symbol)\n",
    "    betas.append(beta)\n",
    "    means.append(ret_mean)"
   ]
  },
  {
   "cell_type": "code",
   "execution_count": 7,
   "metadata": {},
   "outputs": [
    {
     "name": "stdout",
     "output_type": "stream",
     "text": [
      "               Beta       Mean     Ticker    ZH\n",
      "000418.SZ  0.979076  34.969250  000418.SZ  小天鹅A\n",
      "000568.SZ  1.078807  30.084798  000568.SZ  泸州老窖\n",
      "002126.SZ  1.134813   6.418630  002126.SZ  银轮股份\n",
      "002223.SZ  1.008470  10.443390  002223.SZ  鱼跃医疗\n",
      "002372.SZ  1.126915  31.892776  002372.SZ  伟星新材\n",
      "002677.SZ  0.978107  17.252449  002677.SZ  浙江美大\n",
      "002717.SZ  1.031175   8.758680  002717.SZ  岭南股份\n",
      "300003.SZ  1.018159  18.640262  300003.SZ  乐普医疗\n",
      "300015.SZ  0.990191  35.310153  300015.SZ  爱尔眼科\n",
      "300124.SZ  1.199197  12.112894  300124.SZ  汇川技术\n",
      "300136.SZ  1.210771  33.319407  300136.SZ  信维通信\n",
      "300207.SZ  1.146550  21.165248  300207.SZ   欣旺达\n",
      "300244.SZ  1.092175   0.023185  300244.SZ  迪安诊断\n",
      "600276.SS  0.727774  37.184865  600276.SS  恒瑞医药\n",
      "600340.SS  0.979379   8.952844  600340.SS  华夏幸福\n",
      "600419.SS  1.026200   8.514625  600419.SS  天润乳业\n",
      "600566.SS  0.940202  14.701600  600566.SS  济川药业\n",
      "603288.SS  0.849073  34.583916  603288.SS  海天味业\n",
      "603368.SS  1.051702   6.815381  603368.SS  柳药股份\n"
     ]
    }
   ],
   "source": [
    "#构建输出样式\n",
    "dfb = dl.report.DFBuilder(cols=['ZH', 'Ticker', 'Beta', 'Mean'])\n",
    "\n",
    "for symbol in infoClass.STOCKS:\n",
    "    index = infoClass.STOCKS.index(symbol)\n",
    "    symbol_zh = infoClass.STOCKS_ZH[index]\n",
    "    beta, mean = calc_beta(symbol)\n",
    "    dfb.row([symbol_zh, symbol, beta, mean])\n",
    "\n",
    "df = dfb.build(index=infoClass.STOCKS)\n",
    "print(df)"
   ]
  },
  {
   "cell_type": "code",
   "execution_count": 10,
   "metadata": {},
   "outputs": [
    {
     "name": "stdout",
     "output_type": "stream",
     "text": [
      "Using matplotlib backend: Qt5Agg\n",
      " \n",
      "-32.24 x + 52.74\n",
      "['002126.SZ', '002223.SZ', '002677.SZ', '002717.SZ', '300003.SZ', '300124.SZ', '300244.SZ', '600340.SS', '600419.SS', '600566.SS', '603368.SS']\n"
     ]
    }
   ],
   "source": [
    "# 绘制结果和市场安全线\n",
    "%matplotlib auto\n",
    "dl.options.mimic_seaborn()\n",
    "_, ax = plt.subplots()\n",
    "z = fc.plot_polyfit(ax, betas, means)\n",
    "fc.plot_text(ax, betas, means, infoClass.STOCKS, add_scatter=True)# zip(infoClass.STOCKS, infoClass.STOCKS_ZH)\n",
    "ax.set_title('资本资产定价模型', fontproperties=zh_font, fontsize=15)\n",
    "ax.set_xlabel('Beta', fontsize=14)\n",
    "ax.set_ylabel('平均年化收益率（%）', fontproperties=zh_font, fontsize=14)\n",
    "fc.find_not_safe(betas, means, z, infoClass.STOCKS)\n",
    "plt.show()"
   ]
  }
 ],
 "metadata": {
  "kernelspec": {
   "display_name": "Python 3",
   "language": "python",
   "name": "python3"
  },
  "language_info": {
   "codemirror_mode": {
    "name": "ipython",
    "version": 3
   },
   "file_extension": ".py",
   "mimetype": "text/x-python",
   "name": "python",
   "nbconvert_exporter": "python",
   "pygments_lexer": "ipython3",
   "version": "3.6.2"
  }
 },
 "nbformat": 4,
 "nbformat_minor": 2
}
