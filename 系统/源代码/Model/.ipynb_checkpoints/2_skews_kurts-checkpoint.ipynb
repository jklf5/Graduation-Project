{
 "cells": [
  {
   "cell_type": "code",
   "execution_count": 3,
   "metadata": {},
   "outputs": [],
   "source": [
    "# -*- coding: utf-8 -*-\n",
    "\"\"\"\n",
    "检测数据正态性\n",
    "\"\"\"\n",
    "\n",
    "# 导入库\n",
    "import dautil as dl\n",
    "import infoClass\n",
    "import functionClass as fc\n",
    "import matplotlib.pyplot as plt\n",
    "from scipy.stats import skew\n",
    "from scipy.stats import kurtosis\n",
    "from pandas.tools.plotting import autocorrelation_plot\n",
    "import numpy as np\n",
    "from scipy.stats import norm\n",
    "from IPython.display import HTML\n",
    "import matplotlib\n",
    "from datetime import datetime"
   ]
  },
  {
   "cell_type": "code",
   "execution_count": null,
   "metadata": {},
   "outputs": [
    {
     "name": "stdout",
     "output_type": "stream",
     "text": [
      "000418.SZ\n",
      "102\n",
      "000568.SZ\n",
      "103\n",
      "002126.SZ\n",
      "103\n",
      "002223.SZ\n",
      "103\n",
      "002372.SZ\n",
      "103\n",
      "002677.SZ\n",
      "103\n",
      "002717.SZ\n",
      "103\n",
      "300003.SZ\n"
     ]
    }
   ],
   "source": [
    "zh_font = matplotlib.font_manager.FontProperties(fname='C:\\Windows\\Fonts\\simsun.ttc')\n",
    "# 计算股票收益\n",
    "ohlc = dl.data.OHLC()\n",
    "rets_dict = {}\n",
    "start = datetime(2018,12,1,0,0,0,0)\n",
    "\n",
    "for i, symbol in enumerate(infoClass.STOCKS):\n",
    "    print(symbol)\n",
    "    rets = fc.log_rets(fc.get_historical_data(symbol, start=start)['Adj Close'])\n",
    "    rets_dict[symbol] = rets\n",
    "\n",
    "SHci = fc.log_rets(ohlc.get('000001.ss')['Adj Close'])"
   ]
  },
  {
   "cell_type": "code",
   "execution_count": null,
   "metadata": {
    "collapsed": true
   },
   "outputs": [],
   "source": [
    "# 计算收益的偏度和峰度\n",
    "skews = [skew(rets_dict[s]) for s in infoClass.STOCKS]\n",
    "kurts = [kurtosis(rets_dict[s]) for s in infoClass.STOCKS]\n",
    "\n",
    "std_skews = np.std(skews)\n",
    "std_kurts = np.std(kurts)\n",
    "print(std_skews)\n",
    "print(std_kurts)"
   ]
  },
  {
   "cell_type": "code",
   "execution_count": null,
   "metadata": {
    "collapsed": true
   },
   "outputs": [],
   "source": [
    "#构建输出样式\n",
    "dfb = dl.report.DFBuilder(cols=['ZH', 'Ticker', 'Skew/std', 'Kurt/std'])\n",
    "\n",
    "for symbol in infoClass.STOCKS:\n",
    "    index = infoClass.STOCKS.index(symbol)\n",
    "    symbol_zh = infoClass.STOCKS_ZH[index]\n",
    "    skew = skews[infoClass.STOCKS.index(symbol)]/std_skews\n",
    "    kurt = kurts[infoClass.STOCKS.index(symbol)]/std_kurts\n",
    "    dfb.row([symbol_zh, symbol, skew, kurt])\n",
    "\n",
    "df = dfb.build(index=infoClass.STOCKS)\n",
    "print(df)"
   ]
  },
  {
   "cell_type": "code",
   "execution_count": null,
   "metadata": {
    "collapsed": true
   },
   "outputs": [],
   "source": [
    "# 绘制收益的偏度和峰度\n",
    "%matplotlib auto\n",
    "dl.options.mimic_seaborn()\n",
    "_, ax = plt.subplots()\n",
    "ax.scatter(skews, kurts)\n",
    "fc.plot_text(ax, skews, kurts, infoClass.STOCKS)# zip(infoClass.STOCKS, infoClass.STOCKS_ZH)\n",
    "ax.set_xlabel('Skew 偏度', fontproperties=zh_font, fontsize=15)\n",
    "ax.set_ylabel('Kurtosis 峰度', fontproperties=zh_font, fontsize=15)\n",
    "ax.set_title('收益的偏度和峰度', fontproperties=zh_font, fontsize=15)\n",
    "fc.find_not_safe_skews_kurts(skews, kurts, infoClass.STOCKS)\n",
    "plt.show()"
   ]
  }
 ],
 "metadata": {
  "kernelspec": {
   "display_name": "Python 3",
   "language": "python",
   "name": "python3"
  },
  "language_info": {
   "codemirror_mode": {
    "name": "ipython",
    "version": 3
   },
   "file_extension": ".py",
   "mimetype": "text/x-python",
   "name": "python",
   "nbconvert_exporter": "python",
   "pygments_lexer": "ipython3",
   "version": "3.6.2"
  }
 },
 "nbformat": 4,
 "nbformat_minor": 2
}
